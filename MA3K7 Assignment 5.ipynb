{
 "cells": [
  {
   "cell_type": "markdown",
   "id": "1531dfd7",
   "metadata": {},
   "source": [
    "# MA3K7 Assignment 5\n",
    "### Due: 20 Mar 2024"
   ]
  },
  {
   "cell_type": "code",
   "execution_count": 33,
   "id": "2c610e2b",
   "metadata": {},
   "outputs": [],
   "source": [
    "## import libraries\n",
    "\n",
    "import numpy as np\n",
    "import matplotlib.pyplot as plt\n",
    "import random\n",
    "import math"
   ]
  },
  {
   "cell_type": "code",
   "execution_count": 34,
   "id": "7f8cfc7f",
   "metadata": {},
   "outputs": [
    {
     "name": "stdout",
     "output_type": "stream",
     "text": [
      "[[0. 0. 0. 0. 0. 0. 0. 0. 0.]\n",
      " [0. 0. 0. 0. 0. 0. 0. 0. 0.]\n",
      " [0. 0. 0. 0. 0. 0. 0. 0. 0.]\n",
      " [0. 0. 0. 0. 0. 0. 0. 0. 0.]\n",
      " [0. 0. 0. 0. 0. 0. 0. 0. 0.]\n",
      " [0. 0. 0. 0. 0. 0. 0. 0. 0.]\n",
      " [0. 0. 0. 0. 0. 0. 0. 0. 0.]\n",
      " [0. 0. 0. 0. 0. 0. 0. 0. 0.]\n",
      " [0. 0. 0. 0. 0. 0. 0. 0. 0.]]\n"
     ]
    }
   ],
   "source": [
    "## defining a matrix\n",
    "n = 9\n",
    "M = np.zeros(shape=(n,n))\n",
    "print(M)"
   ]
  },
  {
   "cell_type": "code",
   "execution_count": 5,
   "id": "969e8970",
   "metadata": {},
   "outputs": [
    {
     "name": "stdout",
     "output_type": "stream",
     "text": [
      "[[65. 64. 63. 62. 61. 60. 59. 58. 57.]\n",
      " [66. 37. 36. 35. 34. 33. 32. 31. 56.]\n",
      " [67. 38. 17. 16. 15. 14. 13. 30. 55.]\n",
      " [68. 39. 18.  5.  4.  3. 12. 29. 54.]\n",
      " [69. 40. 19.  6.  1.  2. 11. 28. 53.]\n",
      " [70. 41. 20.  7.  8.  9. 10. 27. 52.]\n",
      " [71. 42. 21. 22. 23. 24. 25. 26. 51.]\n",
      " [72. 43. 44. 45. 46. 47. 48. 49. 50.]\n",
      " [73. 74. 75. 76. 77. 78. 79. 80. 81.]]\n"
     ]
    }
   ],
   "source": [
    "## n must be odd\n",
    "n=9\n",
    "M = np.zeros(shape=(n,n))\n",
    "ceil = math.ceil(n/2)\n",
    "\n",
    "for itns in range(1,ceil+1):\n",
    "    n= (2*ceil+1)-2*itns\n",
    "\n",
    "    for i in range(n**2-(n-1), n**2+1):\n",
    "        M[n-1+itns-1][(n-1)-((n**2)-i)+itns-1] = i\n",
    "\n",
    "    for j in range(n**2-2*(n-1),n**2-n+1):\n",
    "        M[(n-2)-((n**2-n)-j)+itns-1][itns-1] = j\n",
    "        \n",
    "    for k in range(n**2-2*(n-1)-1, n**2-3*(n-1)-1, -1): \n",
    "        M[itns-1][(n**2-2*(n-1)-k)+itns-1] = k\n",
    "        \n",
    "    for l in range(n**2-3*(n-1)-1, n**2-4*(n-1), -1):\n",
    "        M[(n**2-3*(n-1)-l)+itns-1][n-1+itns-1] = l\n",
    "    \n",
    "\n",
    "print(M)"
   ]
  },
  {
   "cell_type": "markdown",
   "id": "256c0960",
   "metadata": {},
   "source": []
  },
  {
   "cell_type": "code",
   "execution_count": 3,
   "id": "c905029b",
   "metadata": {},
   "outputs": [
    {
     "name": "stdout",
     "output_type": "stream",
     "text": [
      "[[64. 63. 62. 61. 60. 59. 58. 57.]\n",
      " [37. 36. 35. 34. 33. 32. 31. 56.]\n",
      " [38. 17. 16. 15. 14. 13. 30. 55.]\n",
      " [39. 18.  5.  4.  3. 12. 29. 54.]\n",
      " [40. 19.  6.  1.  2. 11. 28. 53.]\n",
      " [41. 20.  7.  8.  9. 10. 27. 52.]\n",
      " [42. 21. 22. 23. 24. 25. 26. 51.]\n",
      " [43. 44. 45. 46. 47. 48. 49. 50.]]\n"
     ]
    }
   ],
   "source": [
    "## n must be even\n",
    "n=8\n",
    "M = np.zeros(shape=(n,n))\n",
    "ceil = math.ceil(n/2)\n",
    "\n",
    "for itns in range(1,ceil+1):\n",
    "    n= (2*ceil+2)-2*itns\n",
    "\n",
    "    for i in range(n**2, n**2-(n-1)-1,-1):\n",
    "        M[itns-1][((n**2)-i)+itns-1] = i\n",
    "\n",
    "    for j in range(n**2-(n-1),n**2-2*(n-1)-1,-1):\n",
    "        M[((n**2-(n-1))-j)+itns-1][n-1+itns-1] = j\n",
    "        \n",
    "    for k in range(n**2-3*(n-1), n**2-2*(n-1)): \n",
    "        M[n-1+itns-1][(n-1)-(n**2-2*(n-1)-k)+itns-1] = k\n",
    "        \n",
    "    for l in range(n**2-4*(n-1)+1, n**2-3*(n-1)+1):\n",
    "        M[(n-1)-(n**2-3*(n-1)-l)+itns-1][itns-1] = l\n",
    "    \n",
    "\n",
    "print(M)"
   ]
  },
  {
   "cell_type": "code",
   "execution_count": 31,
   "id": "98bc9481",
   "metadata": {},
   "outputs": [
    {
     "name": "stdout",
     "output_type": "stream",
     "text": [
      "[[57. 58. 59. 60. 61. 62. 63. 64. 65.]\n",
      " [56. 31. 32. 33. 34. 35. 36. 37. 66.]\n",
      " [55. 30. 13. 14. 15. 16. 17. 38. 67.]\n",
      " [54. 29. 12.  3.  4.  5. 18. 39. 68.]\n",
      " [53. 28. 11.  2.  1.  6. 19. 40. 69.]\n",
      " [52. 27. 10.  9.  8.  7. 20. 41. 70.]\n",
      " [51. 26. 25. 24. 23. 22. 21. 42. 71.]\n",
      " [50. 49. 48. 47. 46. 45. 44. 43. 72.]\n",
      " [81. 80. 79. 78. 77. 76. 75. 74. 73.]]\n"
     ]
    }
   ],
   "source": [
    "## spiral starting by going left and spiralling clockwise outwards \n",
    "n=9\n",
    "M = np.zeros(shape=(n,n))\n",
    "ceil = math.ceil(n/2)\n",
    "\n",
    "for itns in range(1,ceil+1):\n",
    "    n= (2*ceil+1)-2*itns\n",
    "\n",
    "    for i in range(n**2,n**2-(n-1)-1,-1):\n",
    "        M[n-1+itns-1][((n**2)-i)+itns-1] = i\n",
    "\n",
    "    for j in range(n**2-n,n**2-2*(n-1)-1,-1):\n",
    "        M[(n-2)-((n**2-n)-j)+itns-1][n-1+itns-1] = j\n",
    "        \n",
    "    for k in range(n**2-3*(n-1),n**2-2*(n-1)): \n",
    "        M[itns-1][(n-1)-(n**2-2*(n-1)-k)+itns-1] = k\n",
    "        \n",
    "    for l in range(n**2-4*(n-1)+1,n**2-3*(n-1)):\n",
    "        M[(n**2-3*(n-1)-l)+itns-1][itns-1] = l\n",
    "    \n",
    "\n",
    "print(M)"
   ]
  },
  {
   "cell_type": "code",
   "execution_count": null,
   "id": "bfdda6cd",
   "metadata": {},
   "outputs": [],
   "source": []
  }
 ],
 "metadata": {
  "kernelspec": {
   "display_name": "Python 3 (ipykernel)",
   "language": "python",
   "name": "python3"
  },
  "language_info": {
   "codemirror_mode": {
    "name": "ipython",
    "version": 3
   },
   "file_extension": ".py",
   "mimetype": "text/x-python",
   "name": "python",
   "nbconvert_exporter": "python",
   "pygments_lexer": "ipython3",
   "version": "3.9.13"
  }
 },
 "nbformat": 4,
 "nbformat_minor": 5
}
