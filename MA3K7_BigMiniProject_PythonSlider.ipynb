{
 "cells": [
  {
   "cell_type": "markdown",
   "id": "3b682d45",
   "metadata": {},
   "source": [
    "## Python Slider\n",
    "### as part of MA3K7 Big Mini Project: Task A"
   ]
  },
  {
   "cell_type": "code",
   "execution_count": 2,
   "id": "211ba9ed",
   "metadata": {},
   "outputs": [
    {
     "name": "stdout",
     "output_type": "stream",
     "text": [
      "Using matplotlib backend: MacOSX\n"
     ]
    }
   ],
   "source": [
    "## slider for parameters x,y,z\n",
    "\n",
    "import numpy as np\n",
    "import matplotlib.pyplot as plt\n",
    "from matplotlib.widgets import Slider\n",
    "%matplotlib\n",
    "import random\n",
    "from numpy.random import choice\n",
    "\n",
    "\n",
    "# initial x,y,z and n\n",
    "\n",
    "initial_x = 50\n",
    "initial_y = 50\n",
    "initial_z = 50\n",
    "n = 1000\n",
    "\n",
    "# Setup plot\n",
    "fig, ax = plt.subplots()\n",
    "plt.subplots_adjust(left=0.1, bottom=0.25)\n",
    "\n",
    "\n",
    "# function to update the plot\n",
    "def update(val):\n",
    "    x, y, z = int(sx.val), int(sy.val), int(sz.val)\n",
    "    x_over_n, y_over_n, z_over_n = [x], [y], [z]\n",
    "    T = x + y + z\n",
    "\n",
    "    \n",
    "    for i in range(n):\n",
    "        \n",
    "        probAA = (x*(x-1))/(T*(T-1))\n",
    "        probAB = (2*x*y)/(T*(T-1))\n",
    "        probAC = (2*x*z)/(T*(T-1))\n",
    "        probBB = (y*(y-1))/(T*(T-1))\n",
    "        probBC = (2*y*z)/(T*(T-1))\n",
    "        probCC = (z*(z-1))/(T*(T-1))\n",
    "        \n",
    "        possible_collisions = ['AA', 'AB', 'AC', 'BB', 'BC', 'CC']\n",
    "        random_collision = choice(possible_collisions, p=[probAA,probAB,probAC,probBB,probBC,probCC])\n",
    "        \n",
    "        if random_collision == 'AB'and x>0 and y>0:\n",
    "            x = max(0, x - 1)\n",
    "            y = max(0, y - 1)\n",
    "            z += 2\n",
    "        elif random_collision == 'BC' and y>0 and z>0:\n",
    "            x += 2\n",
    "            y = max(0, y - 1)\n",
    "            z = max(0, z - 1)\n",
    "        elif random_collision == 'AC'and x>0 and z>0:\n",
    "            x = max(0, x - 1)\n",
    "            y += 2\n",
    "            z = max(0, z - 1)  \n",
    "        \n",
    "        x_over_n.append(x)\n",
    "        y_over_n.append(y)\n",
    "        z_over_n.append(z)\n",
    "\n",
    "    ax.clear()\n",
    "    ax.plot(range(n+1), x_over_n, label=\"no. species A over n collisions\")\n",
    "    ax.plot(range(n+1), y_over_n, label=\"no. species B over n collisions\")\n",
    "    ax.plot(range(n+1), z_over_n, label=\"no. species C over n collisions\")\n",
    "    ax.set_xlabel(\"No. Collisions\")\n",
    "    ax.set_ylabel(\"No. particles of given species\")\n",
    "    ax.legend(loc=\"best\")\n",
    "#     plt.title(\"How the number of particles of each species changes as the number of collisions increases\")\n",
    "    plt.draw()\n",
    "\n",
    "# Sliders\n",
    "axcolor = 'forestgreen'\n",
    "ax_x = plt.axes([0.1, 0.1, 0.65, 0.03], facecolor=axcolor)\n",
    "ax_y = plt.axes([0.1, 0.15, 0.65, 0.03], facecolor=axcolor)\n",
    "ax_z = plt.axes([0.1, 0.2, 0.65, 0.03], facecolor=axcolor)\n",
    "\n",
    "sx = Slider(ax_x, 'X', 0, 100, valinit=initial_x, valstep=1)\n",
    "sy = Slider(ax_y, 'Y', 0, 100, valinit=initial_y, valstep=1)\n",
    "sz = Slider(ax_z, 'Z', 0, 100, valinit=initial_z, valstep=1)\n",
    "\n",
    "# Update the plot when sliders are changed\n",
    "sx.on_changed(update)\n",
    "sy.on_changed(update)\n",
    "sz.on_changed(update)\n",
    "\n",
    "# Initialize plot\n",
    "update(None)\n",
    "\n",
    "plt.show()"
   ]
  },
  {
   "cell_type": "code",
   "execution_count": null,
   "id": "8b813c8a",
   "metadata": {},
   "outputs": [],
   "source": []
  }
 ],
 "metadata": {
  "kernelspec": {
   "display_name": "Python 3 (ipykernel)",
   "language": "python",
   "name": "python3"
  },
  "language_info": {
   "codemirror_mode": {
    "name": "ipython",
    "version": 3
   },
   "file_extension": ".py",
   "mimetype": "text/x-python",
   "name": "python",
   "nbconvert_exporter": "python",
   "pygments_lexer": "ipython3",
   "version": "3.9.13"
  }
 },
 "nbformat": 4,
 "nbformat_minor": 5
}
