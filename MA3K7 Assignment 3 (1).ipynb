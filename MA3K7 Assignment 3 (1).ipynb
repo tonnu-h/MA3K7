{
 "cells": [
  {
   "cell_type": "markdown",
   "id": "007d25ba",
   "metadata": {},
   "source": [
    "# MA3K7 Assignment 3\n",
    "### Due: 21 Feb 2024"
   ]
  },
  {
   "cell_type": "code",
   "execution_count": null,
   "id": "959cf2d9",
   "metadata": {},
   "outputs": [],
   "source": [
    "#import libraries\n",
    "\n",
    "import numpy as np\n",
    "import matplotlib.pyplot as plt\n",
    "import random\n",
    "import seaborn as sns"
   ]
  },
  {
   "cell_type": "code",
   "execution_count": null,
   "id": "98991da4",
   "metadata": {},
   "outputs": [],
   "source": [
    "## attempt 1:\n",
    "##  only works up to len > 1022\n",
    "array = list(range(1,2025))\n",
    "\n",
    "while len(array)>1:\n",
    "    x_a = random.choice(array)\n",
    "    x_b = random.choice(array)\n",
    "    \n",
    "    x_new = abs(x_a-x_b)\n",
    "    \n",
    "    array.remove(x_a)\n",
    "    array.remove(x_b)\n",
    "    array.append(x_new)\n",
    "    \n",
    "print(x_a,x_b)"
   ]
  },
  {
   "cell_type": "code",
   "execution_count": null,
   "id": "0ad6962a",
   "metadata": {},
   "outputs": [],
   "source": [
    "## attempt 2: working attempt\n",
    "\n",
    "array = list(range(1,2025))\n",
    "\n",
    "while len(array)>1:\n",
    "    x_a = random.choice(array)\n",
    "    array.remove(x_a)\n",
    "\n",
    "    x_b = random.choice(array)\n",
    "    array.remove(x_b)\n",
    "    \n",
    "    x_new = abs(x_a-x_b)\n",
    "    array.append(x_new)\n",
    "    \n",
    "print(array)"
   ]
  },
  {
   "cell_type": "code",
   "execution_count": null,
   "id": "412a93f5",
   "metadata": {},
   "outputs": [],
   "source": [
    "## Producing results over many games, in this case 50.\n",
    "## Producing the result, of a certain number pieces left\n",
    "\n",
    "i=0\n",
    "final_number = []\n",
    "pieces_left = 1 #the '3' refers to the number of pieces left in the hat. i.e. if you want to stop when there are 2 pieces in the hat, change to '3'to '2'\n",
    "\n",
    "while i < 50:\n",
    "    array = list(range(1,2025))\n",
    "    while len(array)> pieces_left:\n",
    "            x_a = random.choice(array)\n",
    "            array.remove(x_a)\n",
    "\n",
    "            x_b = random.choice(array)\n",
    "            array.remove(x_b)\n",
    "\n",
    "            x_new = abs(x_a-x_b)\n",
    "            array.append(x_new)\n",
    "            \n",
    "    final_number.append(array)\n",
    "    i+=1\n",
    "    \n",
    "print(final_number)"
   ]
  },
  {
   "cell_type": "code",
   "execution_count": null,
   "id": "9873db81",
   "metadata": {},
   "outputs": [],
   "source": [
    "# Producing the final number\n",
    "i=0\n",
    "final_number = []\n",
    "\n",
    "while i < 2000:\n",
    "    array = list(range(1,2025))\n",
    "    while len(array)>1:\n",
    "            x_a = random.choice(array)\n",
    "            array.remove(x_a)\n",
    "\n",
    "            x_b = random.choice(array)\n",
    "            array.remove(x_b)\n",
    "\n",
    "            x_new = abs(x_a-x_b)\n",
    "            array.append(x_new)\n",
    "    \n",
    "    #Here, we want array[0] so we can have list of numbers to plot in the next part, instead of a list of arrays\n",
    "    final_number.append(array[0])\n",
    "    i+=1\n",
    "    \n",
    "# print(final_number)"
   ]
  },
  {
   "cell_type": "code",
   "execution_count": null,
   "id": "7c17bb8f",
   "metadata": {},
   "outputs": [],
   "source": [
    "# Scatter plot for the final number\n",
    "plt.plot(final_number, marker='o', linestyle='none', color='powderblue')  # Plot your data\n",
    "\n",
    "# Creating annotations for the minimum and maximum values\n",
    "min_value = min(final_number)\n",
    "max_value = max(final_number)\n",
    "min_index = final_number.index(min_value)\n",
    "max_index = final_number.index(max_value)\n",
    "\n",
    "plt.annotate(f'Min: {min_value}', xy=(min_index, min_value), xytext=(min_index, min_value + 0.05 * (max_value - min_value)), arrowprops=dict(facecolor='red', shrink=0.05),)\n",
    "\n",
    "plt.annotate(f'Max: {max_value}', xy=(max_index, max_value), xytext=(max_index, max_value - 0.1 * (max_value - min_value)), arrowprops=dict(facecolor='red', shrink=0.05), )\n",
    "\n",
    "plt.xlabel('Iteration No.')\n",
    "plt.ylabel('Value')\n",
    "plt.title('Plot of Values of the Final Number over $1000$ games')\n",
    "plt.tight_layout()\n",
    "plt.show()"
   ]
  },
  {
   "cell_type": "code",
   "execution_count": null,
   "id": "720c2112",
   "metadata": {},
   "outputs": [],
   "source": [
    "# Histogram to show distribution of values of final number\n",
    "sns.histplot(final_number, kde=False, color='cadetblue', bins=100, edgecolor='black', line_kws={'color': 'midnightblue','lw':2})\n",
    "\n",
    "plt.title('Histogram of Values of Final Number with Density Curve, over 1000 games')\n",
    "plt.xlabel('Value')\n",
    "plt.ylabel('Frequency')\n",
    "plt.show()"
   ]
  },
  {
   "cell_type": "code",
   "execution_count": null,
   "id": "85ec2759",
   "metadata": {},
   "outputs": [],
   "source": [
    "# Calculating the mean and median of the value of final number over a given number of games\n",
    "print(np.mean(final_number))\n",
    "print(np.median(final_number))"
   ]
  },
  {
   "cell_type": "code",
   "execution_count": null,
   "id": "e58c8bfd",
   "metadata": {},
   "outputs": [],
   "source": []
  }
 ],
 "metadata": {
  "kernelspec": {
   "display_name": "Python 3 (ipykernel)",
   "language": "python",
   "name": "python3"
  },
  "language_info": {
   "codemirror_mode": {
    "name": "ipython",
    "version": 3
   },
   "file_extension": ".py",
   "mimetype": "text/x-python",
   "name": "python",
   "nbconvert_exporter": "python",
   "pygments_lexer": "ipython3",
   "version": "3.9.13"
  }
 },
 "nbformat": 4,
 "nbformat_minor": 5
}
